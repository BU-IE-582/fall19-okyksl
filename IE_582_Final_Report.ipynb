{
  "nbformat": 4,
  "nbformat_minor": 0,
  "metadata": {
    "colab": {
      "name": "IE 582 Final Report.ipynb",
      "provenance": [],
      "collapsed_sections": []
    },
    "kernelspec": {
      "name": "python3",
      "display_name": "Python 3"
    }
  },
  "cells": [
    {
      "cell_type": "markdown",
      "metadata": {
        "id": "91OX3vc6Ymf7",
        "colab_type": "text"
      },
      "source": [
        "#1. Introduction\n",
        "\n",
        "**Problem Description**\n",
        "\n",
        "In this project, we are asked to predict outcomes of Premier League matches. An outcome of match depends many factors from rosters to form status of team to which team is away and which is home team. Even though this is a very hard problem to solve, bookmakers and sport bet runners have to deal with it daily and provide predictions for each and every game. The aim of this project is find better forecasts than bookmakers. There were 8 round consisting of several matches. We made predictions before the match time of each round. The possible outcomes of any match are ‘home win’, ‘away win’, and ‘draw’. This quality makes this problem seen as a classification problem.\n",
        "\n",
        "**Descriptive Analysis of the given data**\n",
        "\n",
        "While making predictions, we have previous matches data, bets data, goals etc. but initially we prefered to use odds data and find the best bookmaker in terms of its predictions but then we moved to use matches data. Matches sheet includes ID of the matches, league number, teams opposing (home team and away team), their scores, their half time scores, match time and date, epoch data.\n",
        "\n",
        "**Summary of the proposed approach**\n",
        "\n",
        "As moved forward in this project, we first tried to understand the main idea of predicting probabilities. Since there we need three component to predict, we wanted to approach this problem as classification problem. Firstly we applied feature engineering to get some features for classification in the matches data.\n",
        "\n",
        "Then, we firstly thought that decision tree algorithm may be suitable for this case but after comparing some approaches, we decided to apply Random Forest Classifier to our features data to make predictions. Random forests are an ensemble learning method for classification, regression and other tasks that operates by constructing a multitude of decision trees at training time and outputting the class that is the mode of the classes. We also applied Gradient Boosting method for this classification problem. After applying these, we reached that Gradient Boosting works as the best for our problem."
      ]
    },
    {
      "cell_type": "markdown",
      "metadata": {
        "id": "KhOmNSlNYp8i",
        "colab_type": "text"
      },
      "source": [
        "# 2. Related Literature\n",
        "\n",
        "In the literature, this topic is one of the investigation topic and we found several articles related with prediction of the outcomes of matches. In one article, Bayesian Network is the method for that purpose. In the article, Bayesian method is introduced as a method presenting the strength of defensive and offensive strength of home and away team with goal scoring distribution using independence Poisson distribution. Unfortunately, this is not learned in the lectures. \n",
        "In another article, the writer mentions about predictions using support vector machines and 5-fold cross validation. The writer declares that linear SVM works with very high accuracy. \n",
        "Moreover, there are some researchers who tried gradient boosting and logistic regression. \n"
      ]
    },
    {
      "cell_type": "markdown",
      "metadata": {
        "id": "vCMYZlRmYyp9",
        "colab_type": "text"
      },
      "source": [
        "# 3. Approach\n",
        "\n",
        "As we made progress on the homework, we made some particular changes in the model. Initially we used odds data to find the best bookmaker. Then, we made particular feature engineering in the matches data to obtain main feature-instances matrix.\n",
        "\n",
        "Opposing to the literature investigation we want to see the performance of a method which is not tries so much which are decision tree and random forest. A decision tree is a decision support tool that uses a tree-like model of decisions and their possible consequences, including chance event outcomes, resource costs, and utility. It is one way to display an algorithm that only contains conditional control statements. However we thought that applying random forest gives better results because random forest is an ensemble tool which takes a subset of observations and a subset of variables to build a decision trees. It builds multiple such decision tree and amalgamate them together to get a more accurate and stable prediction. This is direct consequence of the fact that by maximum voting from a panel of independent judges.\n",
        "\n",
        "Another approach is gradient boosting method Gradient boosting is a machine learning technique for regression and classification problems, which produces a prediction model in the form of an ensemble of weak prediction models, typically decision trees. It builds the model in a stage-wise fashion like other boosting methods do, and it generalizes them by allowing optimization of an arbitrary differentiable loss function.\n",
        "\n",
        "After applying all of these algorithms, we reached that Gradient Boosting works as the best option interms of predictions.\n",
        "\n",
        "However, finding the most appropriate model is not sufficient because we need to decide the parameters of the model as well. Therefore, we applied k fold cross validation to find best parameters for our random forest model. After doing that we get the best parameters of the model."
      ]
    },
    {
      "cell_type": "markdown",
      "metadata": {
        "id": "D5rPaNBjY0vn",
        "colab_type": "text"
      },
      "source": [
        "#4. Results\n",
        "\n",
        "Here, we list accuracy and RMS values for our proposed models. We use cross-validation to select best hyperparameters for each model. Displayed results are obtained by using **all rounds** in the contest as test data and the rest of this season as training data.\n",
        "\n",
        "> Method | Train Acc. | Train RMS | Test Acc. | Test RMS\n",
        "> --- | --- | --- | --- | ---\n",
        "> Decision Tree | 0.75 | 0.120 | 0.313 | 0.326\n",
        "> Random Forest | 0.906 | 0.112 | 0.373 | 0.248\n",
        "> Stochastic Gradient Boosting | 0.734 | 0.160 | 0.418 | 0.238\n",
        "\n",
        "We see that our methods are quite successful in generalizing over training set but fails in test set. There might be a few reasons to this:\n",
        "\n",
        "1. We split our training and test samples from a single date. This might create two inherently distinct distributions as evolution and performance of soccer teams are very dynamic.\n",
        "2. Our proposed methods are heavily overfitted to training set. If that is the case, we have tried to regularize models by forcing various *tree* params with no success.\n",
        "3. Features selected are not expressive enough to make good predictions. If that is the case, we need to return feature engineering and collect more relevant information about soccer games.\n",
        "\n",
        "Please also note that these models do not use previous round data and thus might have more room to improve simply by using new available data.\n"
      ]
    },
    {
      "cell_type": "markdown",
      "metadata": {
        "id": "NIqmqGzRY2nB",
        "colab_type": "text"
      },
      "source": [
        "#5. Conclusions and Future Work\n",
        "\n",
        "We see that most successful proposed model is Stochastic Gradient Boosting. We observe that our best Test RMS value is very close to RMS values obtained by directly mimicking a successful bookmaker. Therefore, we have not been able to  surprass performance of a successful bookmaker. We avoided using bookmaker predictions to have a pure model based on only soccer features. However, it is very likely that adding them might be useful for generalization of models and if one's aim is to beat bookmaker's predictions, bookmaker predictions must definitely be considered as possible feature. Reflecting on our results, we think our biggest problem is the very narrow set of features we provided to our models. We belive we should have spent more time on extracting new features. Therefore, one of the first future work we will consider is to find more relavent features to the task at hand. Moreover, as every soccer fan knows the decision for an outcome of match is primarily based on playing teams (e.g. if Liverpool is playing, they are *very* likely to win!). However, our models have no internal representation or any knowledge of soccer teams. Therefore, as a secondary future work we would like to design models that can include teams to the decision directly."
      ]
    },
    {
      "cell_type": "markdown",
      "metadata": {
        "id": "BWQhhnwRY63W",
        "colab_type": "text"
      },
      "source": [
        "#6. Code\n",
        "\n",
        "* [Notebook (Repository)](https://github.com/BU-IE-582/fall19-okyksl/blob/master/IE_582_Final_Project.ipynb) - includes all 3 approachs\n",
        "* [Notebook (Colab)](https://colab.research.google.com/drive/1OPcyoKfUxyCPPEtJWYKCKfO5dv8KBK2v) - Colab version of above network\n",
        "* [Decision Tree](https://github.com/BU-IE-582/fall19-DurdaneKarabacak/blob/master/Project/IE582-PROJECT-Decision%20Tree.Rmd) - R implementation of Decision Tree based approach"
      ]
    }
  ]
}