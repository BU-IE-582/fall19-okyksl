{
  "nbformat": 4,
  "nbformat_minor": 0,
  "metadata": {
    "colab": {
      "name": "IE 582 - Homework #1.ipynb",
      "provenance": [],
      "collapsed_sections": []
    },
    "kernelspec": {
      "name": "python3",
      "display_name": "Python 3"
    },
    "accelerator": "GPU"
  },
  "cells": [
    {
      "cell_type": "markdown",
      "metadata": {
        "id": "NWwaigpQuhor",
        "colab_type": "text"
      },
      "source": [
        "# Setup Notebook\n",
        "\n",
        "* **Colab Users:** Setup data location in your drive accordingly.\n",
        "* **Local Setup**: Put the notebook into a folder with csv files and bypass the first cell."
      ]
    },
    {
      "cell_type": "code",
      "metadata": {
        "id": "Ox9AGN6Us0gp",
        "colab_type": "code",
        "outputId": "efe26286-6de5-48f2-a8d3-916178b77311",
        "colab": {
          "base_uri": "https://localhost:8080/",
          "height": 740
        }
      },
      "source": [
        "## NOTE: 'Colab Users' only\n",
        "\n",
        "# import drive \n",
        "from google.colab import drive\n",
        "drive.mount('/content/drive/', force_remount=True)\n",
        "\n",
        "# move files to current folder\n",
        "!mv 'drive/My Drive/IE582Fall2019_data_files/' .\n",
        "\n",
        "# unzip all of the files\n",
        "!unzip 'IE582Fall2019_data_files/bets.zip'\n",
        "!unzip 'IE582Fall2019_data_files/booking.zip'\n",
        "!unzip 'IE582Fall2019_data_files/goals.zip'\n",
        "!unzip 'IE582Fall2019_data_files/matches.zip'\n",
        "!unzip 'IE582Fall2019_data_files/stats.zip'"
      ],
      "execution_count": 1,
      "outputs": [
        {
          "output_type": "stream",
          "text": [
            "Mounted at /content/drive/\n",
            "mv: inter-device move failed: 'drive/My Drive/IE582Fall2019_data_files/' to './IE582Fall2019_data_files'; unable to remove target: Directory not empty\n",
            "Archive:  IE582Fall2019_data_files/bets.zip\n",
            "replace bets.csv? [y]es, [n]o, [A]ll, [N]one, [r]ename: A\n",
            "  inflating: bets.csv                \n",
            "Archive:  IE582Fall2019_data_files/booking.zip\n",
            "replace booking.csv? [y]es, [n]o, [A]ll, [N]one, [r]ename: y\n",
            "  inflating: booking.csv             \n",
            "Archive:  IE582Fall2019_data_files/goals.zip\n",
            "replace goals.csv? [y]es, [n]o, [A]ll, [N]one, [r]ename: y\n",
            "  inflating: goals.csv               \n",
            "Archive:  IE582Fall2019_data_files/matches.zip\n",
            "replace matches.csv? [y]es, [n]o, [A]ll, [N]one, [r]ename: y\n",
            "  inflating: matches.csv             \n",
            "Archive:  IE582Fall2019_data_files/stats.zip\n",
            "replace stats.csv? [y]es, [n]o, [A]ll, [N]one, [r]ename: y\n",
            "  inflating: stats.csv               \n"
          ],
          "name": "stdout"
        }
      ]
    },
    {
      "cell_type": "code",
      "metadata": {
        "id": "3tWtbPjJn_OD",
        "colab_type": "code",
        "colab": {}
      },
      "source": [
        "%matplotlib inline\n",
        "\n",
        "import numpy as np\n",
        "import pandas as pd\n",
        "import matplotlib.pyplot as plt"
      ],
      "execution_count": 0,
      "outputs": []
    },
    {
      "cell_type": "code",
      "metadata": {
        "id": "kYu4-7nOwLI8",
        "colab_type": "code",
        "colab": {}
      },
      "source": [
        "LEAGUE_ID = 148 # PREMIER LEAGUE ID"
      ],
      "execution_count": 0,
      "outputs": []
    },
    {
      "cell_type": "markdown",
      "metadata": {
        "id": "_OqV4Cswuy_z",
        "colab_type": "text"
      },
      "source": [
        "# Task #1"
      ]
    },
    {
      "cell_type": "code",
      "metadata": {
        "id": "TeCS61Cku1Of",
        "colab_type": "code",
        "colab": {
          "base_uri": "https://localhost:8080/",
          "height": 204
        },
        "outputId": "5710baae-d65e-425a-892e-43a41710a5f2"
      },
      "source": [
        "# read match csv data into pandas frame\n",
        "matches = pd.read_csv('matches.csv')\n",
        "\n",
        "# filter desired league matches\n",
        "matches = matches[matches['league_id'] == LEAGUE_ID]\n",
        "\n",
        "# select only desired score columns\n",
        "matches = matches[['match_hometeam_score', 'match_awayteam_score']]\n",
        "\n",
        "# visualize data for sanity check\n",
        "matches.head()"
      ],
      "execution_count": 4,
      "outputs": [
        {
          "output_type": "execute_result",
          "data": {
            "text/html": [
              "<div>\n",
              "<style scoped>\n",
              "    .dataframe tbody tr th:only-of-type {\n",
              "        vertical-align: middle;\n",
              "    }\n",
              "\n",
              "    .dataframe tbody tr th {\n",
              "        vertical-align: top;\n",
              "    }\n",
              "\n",
              "    .dataframe thead th {\n",
              "        text-align: right;\n",
              "    }\n",
              "</style>\n",
              "<table border=\"1\" class=\"dataframe\">\n",
              "  <thead>\n",
              "    <tr style=\"text-align: right;\">\n",
              "      <th></th>\n",
              "      <th>match_hometeam_score</th>\n",
              "      <th>match_awayteam_score</th>\n",
              "    </tr>\n",
              "  </thead>\n",
              "  <tbody>\n",
              "    <tr>\n",
              "      <th>1</th>\n",
              "      <td>0</td>\n",
              "      <td>1</td>\n",
              "    </tr>\n",
              "    <tr>\n",
              "      <th>5</th>\n",
              "      <td>0</td>\n",
              "      <td>6</td>\n",
              "    </tr>\n",
              "    <tr>\n",
              "      <th>6</th>\n",
              "      <td>1</td>\n",
              "      <td>1</td>\n",
              "    </tr>\n",
              "    <tr>\n",
              "      <th>7</th>\n",
              "      <td>0</td>\n",
              "      <td>1</td>\n",
              "    </tr>\n",
              "    <tr>\n",
              "      <th>27</th>\n",
              "      <td>0</td>\n",
              "      <td>0</td>\n",
              "    </tr>\n",
              "  </tbody>\n",
              "</table>\n",
              "</div>"
            ],
            "text/plain": [
              "    match_hometeam_score  match_awayteam_score\n",
              "1                      0                     1\n",
              "5                      0                     6\n",
              "6                      1                     1\n",
              "7                      0                     1\n",
              "27                     0                     0"
            ]
          },
          "metadata": {
            "tags": []
          },
          "execution_count": 4
        }
      ]
    },
    {
      "cell_type": "code",
      "metadata": {
        "id": "vDNi9e-pxg92",
        "colab_type": "code",
        "colab": {
          "base_uri": "https://localhost:8080/",
          "height": 303
        },
        "outputId": "9d5c18f4-386d-4356-dd17-35284cf7cafa"
      },
      "source": [
        "# create figure and axices\n",
        "fig, axs = plt.subplots(nrows=1, ncols=3, figsize=(18, 4))\n",
        "\n",
        "# histogram & plot helper\n",
        "def hist_plot(data, axis, plot_poisson=True):\n",
        "    # calculate min / max of data\n",
        "    data_min = data.min()\n",
        "    data_max = data.max()\n",
        "\n",
        "    # histogram data\n",
        "    _, bins, _ = axis.hist(data, bins=data_max-data_min+1, range=(data_min, data_max))\n",
        "\n",
        "    if plot_poisson:\n",
        "        # poisson sampling\n",
        "        data_mean = data.mean()\n",
        "        poisson_rand = np.random.poisson(lam=data_mean, size=data.size)\n",
        "\n",
        "        # histogram values into bins\n",
        "        hist = np.histogram(poisson_rand, bins=bins)\n",
        "        axis.plot(hist[1][:-1], hist[0])\n",
        "\n",
        "\n",
        "# first plot\n",
        "hist_plot(matches['match_hometeam_score'], axs[0])\n",
        "axs[0].set_xlabel('Home Goals')\n",
        "axs[0].set_ylabel('Number of Games')\n",
        "\n",
        "# second plot\n",
        "hist_plot(matches['match_awayteam_score'], axs[1])\n",
        "axs[1].set_xlabel('Away Goals')\n",
        "axs[1].set_ylabel('Number of Games')\n",
        "\n",
        "# third plot\n",
        "hist_plot(matches['match_hometeam_score'] - matches['match_awayteam_score'], axs[2], plot_poisson=False)\n",
        "axs[2].set_xlabel('Home Goals - Away Goals')\n",
        "axs[2].set_ylabel('Number of Games')\n",
        "\n",
        "fig.show()"
      ],
      "execution_count": 6,
      "outputs": [
        {
          "output_type": "display_data",
          "data": {
            "image/png": "[encoded data removed]",
            "text/plain": [
              "<Figure size 1296x288 with 3 Axes>"
            ]
          },
          "metadata": {
            "tags": []
          }
        }
      ]
    }
  ]
}